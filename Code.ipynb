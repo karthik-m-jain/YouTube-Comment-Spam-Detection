{
 "cells": [
  {
   "cell_type": "markdown",
   "metadata": {},
   "source": [
    "YOUTUBE COMMENT SPAM DETECTION"
   ]
  },
  {
   "cell_type": "markdown",
   "metadata": {},
   "source": [
    "Karthik M Jain "
   ]
  },
  {
   "cell_type": "code",
   "execution_count": 1,
   "metadata": {},
   "outputs": [],
   "source": [
    "#Import basic libraries\n",
    "\n",
    "import numpy as np\n",
    "import pandas as pd\n",
    "import string\n",
    "import nltk                          #Natural Language Toolkit\n",
    "import matplotlib.pyplot as plt"
   ]
  },
  {
   "cell_type": "code",
   "execution_count": 2,
   "metadata": {},
   "outputs": [],
   "source": [
    "#Concatenate datasets\n",
    "df=pd.concat([pd.read_csv(\"images\\\\Youtube01-Psy.csv\"),\n",
    "             pd.read_csv(\"images\\\\Youtube02-KatyPerry.csv\"),\n",
    "             pd.read_csv(\"images\\\\Youtube03-LMFAO.csv\"),\n",
    "             pd.read_csv(\"images\\\\Youtube04-Eminem.csv\"),\n",
    "             pd.read_csv(\"images\\\\Youtube05-Shakira.csv\")])"
   ]
  },
  {
   "cell_type": "code",
   "execution_count": 3,
   "metadata": {},
   "outputs": [
    {
     "name": "stdout",
     "output_type": "stream",
     "text": [
      "Total rows :  1956\n"
     ]
    }
   ],
   "source": [
    "print(\"Total rows : \", len(df))"
   ]
  },
  {
   "cell_type": "code",
   "execution_count": 4,
   "metadata": {},
   "outputs": [
    {
     "data": {
      "text/html": [
       "<div>\n",
       "<style scoped>\n",
       "    .dataframe tbody tr th:only-of-type {\n",
       "        vertical-align: middle;\n",
       "    }\n",
       "\n",
       "    .dataframe tbody tr th {\n",
       "        vertical-align: top;\n",
       "    }\n",
       "\n",
       "    .dataframe thead th {\n",
       "        text-align: right;\n",
       "    }\n",
       "</style>\n",
       "<table border=\"1\" class=\"dataframe\">\n",
       "  <thead>\n",
       "    <tr style=\"text-align: right;\">\n",
       "      <th></th>\n",
       "      <th>COMMENT_ID</th>\n",
       "      <th>AUTHOR</th>\n",
       "      <th>DATE</th>\n",
       "      <th>CONTENT</th>\n",
       "      <th>CLASS</th>\n",
       "    </tr>\n",
       "  </thead>\n",
       "  <tbody>\n",
       "    <tr>\n",
       "      <th>0</th>\n",
       "      <td>LZQPQhLyRh80UYxNuaDWhIGQYNQ96IuCg-AYWqNPjpU</td>\n",
       "      <td>Julius NM</td>\n",
       "      <td>2013-11-07T06:20:48</td>\n",
       "      <td>Huh, anyway check out this you[tube] channel: ...</td>\n",
       "      <td>1</td>\n",
       "    </tr>\n",
       "    <tr>\n",
       "      <th>1</th>\n",
       "      <td>LZQPQhLyRh_C2cTtd9MvFRJedxydaVW-2sNg5Diuo4A</td>\n",
       "      <td>adam riyati</td>\n",
       "      <td>2013-11-07T12:37:15</td>\n",
       "      <td>Hey guys check out my new channel and our firs...</td>\n",
       "      <td>1</td>\n",
       "    </tr>\n",
       "    <tr>\n",
       "      <th>2</th>\n",
       "      <td>LZQPQhLyRh9MSZYnf8djyk0gEF9BHDPYrrK-qCczIY8</td>\n",
       "      <td>Evgeny Murashkin</td>\n",
       "      <td>2013-11-08T17:34:21</td>\n",
       "      <td>just for test I have to say murdev.com</td>\n",
       "      <td>1</td>\n",
       "    </tr>\n",
       "    <tr>\n",
       "      <th>3</th>\n",
       "      <td>z13jhp0bxqncu512g22wvzkasxmvvzjaz04</td>\n",
       "      <td>ElNino Melendez</td>\n",
       "      <td>2013-11-09T08:28:43</td>\n",
       "      <td>me shaking my sexy ass on my channel enjoy ^_^ ﻿</td>\n",
       "      <td>1</td>\n",
       "    </tr>\n",
       "    <tr>\n",
       "      <th>4</th>\n",
       "      <td>z13fwbwp1oujthgqj04chlngpvzmtt3r3dw</td>\n",
       "      <td>GsMega</td>\n",
       "      <td>2013-11-10T16:05:38</td>\n",
       "      <td>watch?v=vtaRGgvGtWQ   Check this out .﻿</td>\n",
       "      <td>1</td>\n",
       "    </tr>\n",
       "  </tbody>\n",
       "</table>\n",
       "</div>"
      ],
      "text/plain": [
       "                                    COMMENT_ID            AUTHOR  \\\n",
       "0  LZQPQhLyRh80UYxNuaDWhIGQYNQ96IuCg-AYWqNPjpU         Julius NM   \n",
       "1  LZQPQhLyRh_C2cTtd9MvFRJedxydaVW-2sNg5Diuo4A       adam riyati   \n",
       "2  LZQPQhLyRh9MSZYnf8djyk0gEF9BHDPYrrK-qCczIY8  Evgeny Murashkin   \n",
       "3          z13jhp0bxqncu512g22wvzkasxmvvzjaz04   ElNino Melendez   \n",
       "4          z13fwbwp1oujthgqj04chlngpvzmtt3r3dw            GsMega   \n",
       "\n",
       "                  DATE                                            CONTENT  \\\n",
       "0  2013-11-07T06:20:48  Huh, anyway check out this you[tube] channel: ...   \n",
       "1  2013-11-07T12:37:15  Hey guys check out my new channel and our firs...   \n",
       "2  2013-11-08T17:34:21             just for test I have to say murdev.com   \n",
       "3  2013-11-09T08:28:43   me shaking my sexy ass on my channel enjoy ^_^ ﻿   \n",
       "4  2013-11-10T16:05:38            watch?v=vtaRGgvGtWQ   Check this out .﻿   \n",
       "\n",
       "   CLASS  \n",
       "0      1  \n",
       "1      1  \n",
       "2      1  \n",
       "3      1  \n",
       "4      1  "
      ]
     },
     "execution_count": 4,
     "metadata": {},
     "output_type": "execute_result"
    }
   ],
   "source": [
    "#Print few contents\n",
    "df.head()"
   ]
  },
  {
   "cell_type": "code",
   "execution_count": 5,
   "metadata": {},
   "outputs": [
    {
     "data": {
      "text/plain": [
       "COMMENT_ID    object\n",
       "AUTHOR        object\n",
       "DATE          object\n",
       "CONTENT       object\n",
       "CLASS          int64\n",
       "dtype: object"
      ]
     },
     "execution_count": 5,
     "metadata": {},
     "output_type": "execute_result"
    }
   ],
   "source": [
    "df.dtypes"
   ]
  },
  {
   "cell_type": "code",
   "execution_count": 6,
   "metadata": {},
   "outputs": [
    {
     "name": "stdout",
     "output_type": "stream",
     "text": [
      "Count of non-spam comments :  1005\n",
      "Count of spam comments :  951\n"
     ]
    }
   ],
   "source": [
    "#Count of spam and not spam comments\n",
    "print(\"Count of non-spam comments : \",len(df.query('CLASS==1')))\n",
    "print(\"Count of spam comments : \",len(df.query('CLASS==0')))"
   ]
  },
  {
   "cell_type": "code",
   "execution_count": 7,
   "metadata": {},
   "outputs": [
    {
     "name": "stdout",
     "output_type": "stream",
     "text": [
      "\n",
      "Before lowercase every word : 0    Huh, anyway check out this you[tube] channel: ...\n",
      "Name: CONTENT, dtype: object\n",
      "\n",
      "Afterwards : 0    huh, anyway check out this you[tube] channel: ...\n",
      "Name: CONTENT, dtype: object\n",
      "\n",
      "Before drop punctuation : 0    huh, anyway check out this you[tube] channel: ...\n",
      "Name: CONTENT, dtype: object\n",
      "\n",
      "Afterwards : 0    huh anyway check out this youtube channel koby...\n",
      "Name: CONTENT, dtype: object\n",
      "\n",
      "Before drop stop words : 0    huh anyway check out this youtube channel koby...\n",
      "Name: CONTENT, dtype: object\n",
      "\n",
      "Afterwards : 0    huh anyway check youtube channel kobyoshi02\n",
      "Name: CONTENT, dtype: object\n"
     ]
    }
   ],
   "source": [
    "#Preprocessing task\n",
    "\n",
    "#1. Lowercase every word\n",
    "print(\"\\nBefore lowercase every word :\", df.loc[df[\"AUTHOR\"]==\"Julius NM\"][\"CONTENT\"])         \n",
    "\n",
    "df[\"CONTENT\"]=df['CONTENT'].str.lower()                                   #Using str.lower()\n",
    "\n",
    "rslt_df=df.loc[df[\"AUTHOR\"]==\"Julius NM\"]\n",
    "print(\"\\nAfterwards :\", df.loc[df[\"AUTHOR\"]==\"Julius NM\"][\"CONTENT\"])\n",
    "\n",
    "#2. Drop punctuation\n",
    "#Reference site : https://stackoverflow.com/questions/39782418/remove-punctuations-in-pandas\n",
    "\n",
    "print(\"\\nBefore drop punctuation :\", df.loc[df[\"AUTHOR\"]==\"Julius NM\"][\"CONTENT\"])\n",
    "\n",
    "def remove_punctuations(text):\n",
    "    for punctuation in string.punctuation:\n",
    "        text = text.replace(punctuation, '')\n",
    "    return text\n",
    "\n",
    "df[\"CONTENT\"] = df['CONTENT'].apply(remove_punctuations)\n",
    "\n",
    "print(\"\\nAfterwards :\", df.loc[df[\"AUTHOR\"]==\"Julius NM\"][\"CONTENT\"])\n",
    "\n",
    "#3. Drop very common words(stop words)(useless words)          \n",
    "#Reference site : https://stackoverflow.com/questions/29523254/python-remove-stop-words-from-pandas-dataframe\n",
    "\n",
    "print(\"\\nBefore drop stop words :\", df.loc[df[\"AUTHOR\"]==\"Julius NM\"][\"CONTENT\"])\n",
    "from nltk.corpus import stopwords\n",
    "stop = stopwords.words('english')\n",
    "\n",
    "df[\"CONTENT\"] = df[\"CONTENT\"].apply(lambda x: ' '.join([word for word in x.split() if word not in (stop)]))\n",
    "\n",
    "print(\"\\nAfterwards :\", df.loc[df[\"AUTHOR\"]==\"Julius NM\"][\"CONTENT\"])"
   ]
  },
  {
   "cell_type": "code",
   "execution_count": 8,
   "metadata": {},
   "outputs": [],
   "source": [
    "#Categorize independent column and dependent column\n",
    "\n",
    "x=df.iloc[:,-2].values\n",
    "y=df.iloc[:,-1].values"
   ]
  },
  {
   "cell_type": "code",
   "execution_count": 9,
   "metadata": {},
   "outputs": [
    {
     "data": {
      "text/plain": [
       "array(['huh anyway check youtube channel kobyoshi02',\n",
       "       'hey guys check new channel first vid us monkeys im monkey white shirtplease leave like comment please subscribe',\n",
       "       'test say murdevcom', ..., 'wow', 'shakira u wiredo',\n",
       "       'shakira best dancer'], dtype=object)"
      ]
     },
     "execution_count": 9,
     "metadata": {},
     "output_type": "execute_result"
    }
   ],
   "source": [
    "#x variable has only CONTENT Column data\n",
    "x"
   ]
  },
  {
   "cell_type": "code",
   "execution_count": 10,
   "metadata": {},
   "outputs": [
    {
     "data": {
      "text/plain": [
       "array([1, 1, 1, ..., 0, 0, 0], dtype=int64)"
      ]
     },
     "execution_count": 10,
     "metadata": {},
     "output_type": "execute_result"
    }
   ],
   "source": [
    "#x variable has Class Label\n",
    "y"
   ]
  },
  {
   "cell_type": "code",
   "execution_count": 11,
   "metadata": {},
   "outputs": [],
   "source": [
    "#Building training and testing data\n",
    "#Training data=70%  Testing data=30%\n",
    "\n",
    "from sklearn.model_selection import train_test_split\n",
    "\n",
    "X_train,X_test,Y_train,Y_test=train_test_split(x,y,test_size=0.3,random_state=1)"
   ]
  },
  {
   "cell_type": "code",
   "execution_count": 12,
   "metadata": {},
   "outputs": [
    {
     "data": {
      "text/plain": [
       "<1369x3215 sparse matrix of type '<class 'numpy.int64'>'\n",
       "\twith 10441 stored elements in Compressed Sparse Row format>"
      ]
     },
     "execution_count": 12,
     "metadata": {},
     "output_type": "execute_result"
    }
   ],
   "source": [
    "#CountVectorizer\n",
    "\n",
    "#https://scikit-learn.org/stable/modules/feature_extraction.html#text-feature-extraction\n",
    "from sklearn.feature_extraction.text import CountVectorizer\n",
    "vectorizer=CountVectorizer()\n",
    "cvec=vectorizer.fit_transform(X_train)\n",
    "cvec"
   ]
  },
  {
   "cell_type": "code",
   "execution_count": 13,
   "metadata": {},
   "outputs": [
    {
     "name": "stdout",
     "output_type": "stream",
     "text": [
      "   002  0058  04  10  100  1000  1000000  1000000000  100100  1015  ...  \\\n",
      "0    0     0   0   0    0     0        0           0       0     0  ...   \n",
      "1    0     0   0   0    0     0        0           0       0     0  ...   \n",
      "2    0     0   0   0    0     0        0           0       0     0  ...   \n",
      "\n",
      "   zombie  zonepacom  οh  لل  강남스타일  ｃｏｍｍｅｎｔ  ｄａｍｎ  ｆａｎｃy  ｉｓ  ｔｈｉｓ  \n",
      "0       0          0   0   0      0        0     0      0   0     0  \n",
      "1       0          0   0   0      0        0     0      0   0     0  \n",
      "2       0          0   0   0      0        0     0      0   0     0  \n",
      "\n",
      "[3 rows x 3215 columns]\n"
     ]
    }
   ],
   "source": [
    "#CountVectorized Dataframe\n",
    "print(pd.DataFrame(cvec.toarray(),columns=vectorizer.get_feature_names()).head(3))"
   ]
  },
  {
   "cell_type": "code",
   "execution_count": 14,
   "metadata": {},
   "outputs": [
    {
     "name": "stdout",
     "output_type": "stream",
     "text": [
      "   002  0058   04   10  100  1000  1000000  1000000000  100100  1015  ...  \\\n",
      "0  0.0   0.0  0.0  0.0  0.0   0.0      0.0         0.0     0.0   0.0  ...   \n",
      "1  0.0   0.0  0.0  0.0  0.0   0.0      0.0         0.0     0.0   0.0  ...   \n",
      "2  0.0   0.0  0.0  0.0  0.0   0.0      0.0         0.0     0.0   0.0  ...   \n",
      "\n",
      "   zombie  zonepacom   οh   لل  강남스타일  ｃｏｍｍｅｎｔ  ｄａｍｎ  ｆａｎｃy   ｉｓ  ｔｈｉｓ  \n",
      "0     0.0        0.0  0.0  0.0    0.0      0.0   0.0    0.0  0.0   0.0  \n",
      "1     0.0        0.0  0.0  0.0    0.0      0.0   0.0    0.0  0.0   0.0  \n",
      "2     0.0        0.0  0.0  0.0    0.0      0.0   0.0    0.0  0.0   0.0  \n",
      "\n",
      "[3 rows x 3215 columns]\n"
     ]
    }
   ],
   "source": [
    "#Import TfidfVectorizer \n",
    "\n",
    "from sklearn.feature_extraction.text import TfidfVectorizer\n",
    "\n",
    "tvec=TfidfVectorizer()\n",
    "X=tvec.fit_transform(X_train)\n",
    "\n",
    "print(pd.DataFrame(X.toarray(),columns=tvec.get_feature_names()).head(3))"
   ]
  },
  {
   "cell_type": "markdown",
   "metadata": {},
   "source": [
    "Multinomial Naive Bayes:\n",
    "This is mostly used for document classification problem, i.e whether a document belongs to the category of sports, politics, technology etc. The features/predictors used by the classifier are the frequency of the words present in the document.\n",
    "\n",
    "Bernoulli Naive Bayes:\n",
    "This is similar to the multinomial naive bayes but the predictors are boolean variables. The parameters that we use to predict the class variable take up only values yes or no, for example if a word occurs in the text or not.\n",
    "\n",
    "Gaussian Naive Bayes:\n",
    "When the predictors take up a continuous value and are not discrete, we assume that these values are sampled from a gaussian distribution.\n",
    "\n",
    "#Hence only implementation of MultinomialNB and BernoullNB is shown"
   ]
  },
  {
   "cell_type": "code",
   "execution_count": 15,
   "metadata": {},
   "outputs": [],
   "source": [
    "#Array Initialization\n",
    "models=[]                        #Model names\n",
    "results_count=[]                 #Accuracy of models for CountVectorizer\n",
    "results_tfidf=[]                 #Accuracy of models for TfidfVectorizer\n",
    "estimators=[]                    #Array for Bagging \n",
    "count_acc=[]\n",
    "count_pre=[]\n",
    "count_rec=[]\n",
    "tfidf_acc=[]\n",
    "tfidf_pre=[]\n",
    "tfidf_rec=[]"
   ]
  },
  {
   "cell_type": "code",
   "execution_count": 16,
   "metadata": {},
   "outputs": [
    {
     "name": "stdout",
     "output_type": "stream",
     "text": [
      "Confusion Matrix of CountVectorizer and MultinomialNB :\n",
      " [[236  44]\n",
      " [ 25 282]]\n",
      "\n",
      "Accuracy Score of CountVectorizer and MultinomialNB :  :  0.8824531516183987\n",
      "\n",
      "Classification Report :\n",
      "               precision    recall  f1-score   support\n",
      "\n",
      "           0       0.90      0.84      0.87       280\n",
      "           1       0.87      0.92      0.89       307\n",
      "\n",
      "    accuracy                           0.88       587\n",
      "   macro avg       0.88      0.88      0.88       587\n",
      "weighted avg       0.88      0.88      0.88       587\n",
      "\n",
      "\n",
      "Cross Value Scores :  [0.80102041 0.87468031 0.88746803 0.85677749 0.85933504]\n",
      "\n",
      "Accuracy :  0.8558562555456964\n"
     ]
    }
   ],
   "source": [
    "#CountVectorizer and MultinomialNB\n",
    "\n",
    "from sklearn.pipeline import make_pipeline                                 #Import Pipeline\n",
    "from sklearn.naive_bayes import  MultinomialNB                             #Import MultinomialNB\n",
    "from sklearn.metrics import confusion_matrix                               #Import library for Confusion matrix\n",
    "\n",
    "#Create Pipeline\n",
    "model=make_pipeline(CountVectorizer(),MultinomialNB())\n",
    "models.append('MNB')\n",
    "estimators.append(('MNB',model))\n",
    "\n",
    "model.fit(X_train,Y_train)                                                 #Fit the model\n",
    "\n",
    "y_pred=model.predict(X_test)                                               #Predict Class label using the model for X_test data\n",
    "\n",
    "print(\"Confusion Matrix of CountVectorizer and MultinomialNB :\\n\",confusion_matrix(Y_test,y_pred))\n",
    "\n",
    "from sklearn import metrics                                                #Calculate accuracy,precision and recall\n",
    "score=metrics.accuracy_score(Y_test,y_pred)\n",
    "count_acc.append(score)\n",
    "precision=metrics.precision_score(Y_test,y_pred,average='weighted')\n",
    "count_pre.append(precision)\n",
    "recall=metrics.recall_score(Y_test,y_pred,average='weighted')\n",
    "count_rec.append(recall)\n",
    "results_count.append(score)\n",
    "\n",
    "print(\"\\nAccuracy Score of CountVectorizer and MultinomialNB :  : \",score)\n",
    "print(\"\\nClassification Report :\\n\", metrics.classification_report(Y_test,y_pred))\n",
    "\n",
    "from sklearn.model_selection import cross_val_score                        #Use cross validation\n",
    "scores=cross_val_score(model,x,y,cv=5)\n",
    "\n",
    "print(\"\\nCross Value Scores : \",scores)\n",
    "print(\"\\nAccuracy : \",scores.mean())"
   ]
  },
  {
   "cell_type": "code",
   "execution_count": 17,
   "metadata": {},
   "outputs": [
    {
     "name": "stdout",
     "output_type": "stream",
     "text": [
      "\n",
      "Confusion Matrix of TfidfVectorizer and MultinomialNB :\n",
      " [[239  41]\n",
      " [ 32 275]]\n",
      "\n",
      "Accuracy of TfidfVectorizer and MultinomialNB :  0.8756388415672913\n",
      "\n",
      "Classification Report :\n",
      "               precision    recall  f1-score   support\n",
      "\n",
      "           0       0.88      0.85      0.87       280\n",
      "           1       0.87      0.90      0.88       307\n",
      "\n",
      "    accuracy                           0.88       587\n",
      "   macro avg       0.88      0.87      0.88       587\n",
      "weighted avg       0.88      0.88      0.88       587\n",
      "\n",
      "\n",
      "Cross Value Scores :  [0.7755102  0.86189258 0.89258312 0.85677749 0.85421995]\n",
      "\n",
      "Accuracy :  0.8481966699723367\n"
     ]
    }
   ],
   "source": [
    "#TfidfVectorizer and MultinomialNB\n",
    "\n",
    "model=make_pipeline(TfidfVectorizer(),MultinomialNB())\n",
    "\n",
    "model.fit(X_train,Y_train)\n",
    "\n",
    "y_pred=model.predict(X_test)\n",
    "\n",
    "score=metrics.accuracy_score(Y_test,y_pred)\n",
    "tfidf_acc.append(score)\n",
    "precision=metrics.precision_score(Y_test,y_pred,average='weighted')\n",
    "tfidf_pre.append(precision)\n",
    "recall=metrics.recall_score(Y_test,y_pred,average='weighted')\n",
    "tfidf_rec.append(recall)\n",
    "results_tfidf.append(score)\n",
    "\n",
    "print(\"\\nConfusion Matrix of TfidfVectorizer and MultinomialNB :\\n\",confusion_matrix(Y_test,y_pred))\n",
    "print(\"\\nAccuracy of TfidfVectorizer and MultinomialNB : \",score)\n",
    "print(\"\\nClassification Report :\\n\", metrics.classification_report(Y_test,y_pred))\n",
    "\n",
    "scores=cross_val_score(model,x,y,cv=5)\n",
    "\n",
    "print(\"\\nCross Value Scores : \",scores)\n",
    "print(\"\\nAccuracy : \",scores.mean())"
   ]
  },
  {
   "cell_type": "code",
   "execution_count": 18,
   "metadata": {},
   "outputs": [
    {
     "name": "stdout",
     "output_type": "stream",
     "text": [
      "\n",
      "Confusion Matrix of CountVectorizer and BernoulliNB :\n",
      " [[277   3]\n",
      " [ 87 220]]\n",
      "\n",
      "Accuracy of CountVectorizer and BernoulliNB :  0.8466780238500852\n",
      "\n",
      "Classification Report :\n",
      "               precision    recall  f1-score   support\n",
      "\n",
      "           0       0.76      0.99      0.86       280\n",
      "           1       0.99      0.72      0.83       307\n",
      "\n",
      "    accuracy                           0.85       587\n",
      "   macro avg       0.87      0.85      0.85       587\n",
      "weighted avg       0.88      0.85      0.84       587\n",
      "\n",
      "\n",
      "Cross Value Scores :  [0.74489796 0.76214834 0.69820972 0.91560102 0.90792839]\n",
      "\n",
      "Accuracy :  0.8057570854428728\n"
     ]
    }
   ],
   "source": [
    "#CountVectorizer and BernoulliNB\n",
    "\n",
    "from sklearn.naive_bayes import BernoulliNB\n",
    "\n",
    "model=make_pipeline(CountVectorizer(),BernoulliNB())\n",
    "\n",
    "model.fit(X_train,Y_train)\n",
    "models.append('BNB')\n",
    "estimators.append((\"BNB\",model))\n",
    "\n",
    "y_pred=model.predict(X_test)\n",
    "\n",
    "score=metrics.accuracy_score(Y_test,y_pred)\n",
    "count_acc.append(score)\n",
    "precision=metrics.precision_score(Y_test,y_pred,average='weighted')\n",
    "count_pre.append(precision)\n",
    "recall=metrics.recall_score(Y_test,y_pred,average='weighted')\n",
    "count_rec.append(recall)\n",
    "results_count.append(score)\n",
    "\n",
    "print(\"\\nConfusion Matrix of CountVectorizer and BernoulliNB :\\n\",confusion_matrix(Y_test,y_pred))\n",
    "print(\"\\nAccuracy of CountVectorizer and BernoulliNB : \",score)\n",
    "print(\"\\nClassification Report :\\n\", metrics.classification_report(Y_test,y_pred))\n",
    "\n",
    "scores=cross_val_score(model,x,y,cv=5)\n",
    "\n",
    "print(\"\\nCross Value Scores : \",scores)\n",
    "print(\"\\nAccuracy : \",scores.mean())"
   ]
  },
  {
   "cell_type": "code",
   "execution_count": 19,
   "metadata": {},
   "outputs": [
    {
     "name": "stdout",
     "output_type": "stream",
     "text": [
      "\n",
      "Confusion Matrix of TfidfVectorizer and BernoulliNB :\n",
      " [[277   3]\n",
      " [ 87 220]]\n",
      "\n",
      "Accuracy of TfidfVectorizer and BernoulliNB :  0.8466780238500852\n",
      "\n",
      "Classification Report :\n",
      "               precision    recall  f1-score   support\n",
      "\n",
      "           0       0.76      0.99      0.86       280\n",
      "           1       0.99      0.72      0.83       307\n",
      "\n",
      "    accuracy                           0.85       587\n",
      "   macro avg       0.87      0.85      0.85       587\n",
      "weighted avg       0.88      0.85      0.84       587\n",
      "\n",
      "\n",
      "Cross Value Scores :  [0.74489796 0.76214834 0.69820972 0.91560102 0.90792839]\n",
      "\n",
      "Accuracy :  0.8057570854428728\n"
     ]
    }
   ],
   "source": [
    "#TfidfVectorizer and BernoulliNB\n",
    "\n",
    "model=make_pipeline(TfidfVectorizer(),BernoulliNB())\n",
    "\n",
    "model.fit(X_train,Y_train)\n",
    "\n",
    "y_pred=model.predict(X_test)\n",
    "\n",
    "score=metrics.accuracy_score(Y_test,y_pred)\n",
    "tfidf_acc.append(score)\n",
    "precision=metrics.precision_score(Y_test,y_pred,average='weighted')\n",
    "tfidf_pre.append(precision)\n",
    "recall=metrics.recall_score(Y_test,y_pred,average='weighted')\n",
    "tfidf_rec.append(recall)\n",
    "results_tfidf.append(score)\n",
    "\n",
    "print(\"\\nConfusion Matrix of TfidfVectorizer and BernoulliNB :\\n\",confusion_matrix(Y_test,y_pred))\n",
    "print(\"\\nAccuracy of TfidfVectorizer and BernoulliNB : \",score)\n",
    "print(\"\\nClassification Report :\\n\", metrics.classification_report(Y_test,y_pred))\n",
    "\n",
    "scores=cross_val_score(model,x,y,cv=5)\n",
    "\n",
    "print(\"\\nCross Value Scores : \",scores)\n",
    "print(\"\\nAccuracy : \",scores.mean())"
   ]
  },
  {
   "cell_type": "markdown",
   "metadata": {},
   "source": [
    "While the tf–idf normalization is often very useful, there might be cases where the binary occurrence markers might\n",
    "offer better features. This can be achieved by using the binary parameter of CountVectorizer.\n",
    "In particular, some estimators such as Bernoulli Naive Bayes explicitly model discrete boolean random variables. \n",
    "Also, very short texts are likely to have noisy tf–idf values while the binary occurrence info is more stable."
   ]
  },
  {
   "cell_type": "code",
   "execution_count": 20,
   "metadata": {},
   "outputs": [
    {
     "name": "stdout",
     "output_type": "stream",
     "text": [
      "\n",
      "Confusion Matrix of CountVectorizer and DecisionTree :\n",
      " [[270  10]\n",
      " [ 52 255]]\n",
      "\n",
      "Accuracy of CountVectorizer and DecisionTree :  0.8943781942078365\n",
      "\n",
      "Classification Report :\n",
      "               precision    recall  f1-score   support\n",
      "\n",
      "           0       0.84      0.96      0.90       280\n",
      "           1       0.96      0.83      0.89       307\n",
      "\n",
      "    accuracy                           0.89       587\n",
      "   macro avg       0.90      0.90      0.89       587\n",
      "weighted avg       0.90      0.89      0.89       587\n",
      "\n",
      "\n",
      "Cross Value Scores :  [0.74489796 0.82352941 0.94629156 0.95396419 0.92071611]\n",
      "\n",
      "Accuracy :  0.8778798475912104\n"
     ]
    }
   ],
   "source": [
    "#CountVectorizer and DecisionTreeClassifier\n",
    "\n",
    "from sklearn.tree import DecisionTreeClassifier\n",
    "\n",
    "regressor=DecisionTreeClassifier(criterion=\"entropy\",max_depth=None,splitter='best')\n",
    "\n",
    "model=make_pipeline(CountVectorizer(),regressor)\n",
    "models.append('DTree')\n",
    "\n",
    "estimators.append(('DTree',model))\n",
    "\n",
    "model.fit(X_train,Y_train)\n",
    "\n",
    "y_pred=model.predict(X_test)\n",
    "\n",
    "score=metrics.accuracy_score(Y_test,y_pred)\n",
    "count_acc.append(score)\n",
    "precision=metrics.precision_score(Y_test,y_pred,average='weighted')\n",
    "count_pre.append(precision)\n",
    "recall=metrics.recall_score(Y_test,y_pred,average='weighted')\n",
    "count_rec.append(recall)\n",
    "results_count.append(score)\n",
    "\n",
    "print(\"\\nConfusion Matrix of CountVectorizer and DecisionTree :\\n\",confusion_matrix(Y_test,y_pred))\n",
    "print(\"\\nAccuracy of CountVectorizer and DecisionTree : \",score)\n",
    "print(\"\\nClassification Report :\\n\", metrics.classification_report(Y_test,y_pred))\n",
    "\n",
    "scores=cross_val_score(model,x,y,cv=5)\n",
    "\n",
    "print(\"\\nCross Value Scores : \",scores)\n",
    "print(\"\\nAccuracy : \",scores.mean())"
   ]
  },
  {
   "cell_type": "code",
   "execution_count": 21,
   "metadata": {},
   "outputs": [
    {
     "name": "stdout",
     "output_type": "stream",
     "text": [
      "Confusion Matrix of TfidfVectorizer and DecisionTree :\n",
      " [[264  16]\n",
      " [ 52 255]]\n",
      "Accuracy of TfidfVectorizer and DecisionTree :  0.8841567291311755\n",
      "\n",
      "Classification Report :\n",
      "               precision    recall  f1-score   support\n",
      "\n",
      "           0       0.84      0.94      0.89       280\n",
      "           1       0.94      0.83      0.88       307\n",
      "\n",
      "    accuracy                           0.88       587\n",
      "   macro avg       0.89      0.89      0.88       587\n",
      "weighted avg       0.89      0.88      0.88       587\n",
      "\n",
      "Cross Value Scores :  [0.74234694 0.81074169 0.94117647 0.9488491  0.91815857]\n",
      "Accuracy :  0.8722545539955112\n"
     ]
    }
   ],
   "source": [
    "#TfidfVectorizer and DecisionTreeClassifier\n",
    "\n",
    "model=make_pipeline(TfidfVectorizer(),regressor)\n",
    "\n",
    "model.fit(X_train,Y_train)\n",
    "\n",
    "y_pred=model.predict(X_test)\n",
    "\n",
    "score=metrics.accuracy_score(Y_test,y_pred)\n",
    "tfidf_acc.append(score)\n",
    "precision=metrics.precision_score(Y_test,y_pred,average='weighted')\n",
    "tfidf_pre.append(precision)\n",
    "recall=metrics.recall_score(Y_test,y_pred,average='weighted')\n",
    "tfidf_rec.append(recall)\n",
    "results_tfidf.append(score)\n",
    "\n",
    "print(\"Confusion Matrix of TfidfVectorizer and DecisionTree :\\n\",confusion_matrix(Y_test,y_pred))\n",
    "print(\"Accuracy of TfidfVectorizer and DecisionTree : \",score)\n",
    "print(\"\\nClassification Report :\\n\", metrics.classification_report(Y_test,y_pred))\n",
    "\n",
    "scores=cross_val_score(model,x,y,cv=5)\n",
    "\n",
    "print(\"Cross Value Scores : \",scores)\n",
    "print(\"Accuracy : \",scores.mean())"
   ]
  },
  {
   "cell_type": "markdown",
   "metadata": {},
   "source": [
    "A random forest is a meta estimator that fits a number of decision tree classifiers on various sub-samples of the dataset and uses averaging to improve the predictive accuracy and control over-fitting."
   ]
  },
  {
   "cell_type": "code",
   "execution_count": 22,
   "metadata": {},
   "outputs": [
    {
     "name": "stdout",
     "output_type": "stream",
     "text": [
      "\n",
      "Confusion Matrix of CountVectorizer and RandomForestClassifier :\n",
      " [[273   7]\n",
      " [ 52 255]]\n",
      "\n",
      "Accuracy of CountVectorizer and RandomForestClassifier :  0.899488926746167\n",
      "\n",
      "Classification Report :\n",
      "               precision    recall  f1-score   support\n",
      "\n",
      "           0       0.84      0.97      0.90       280\n",
      "           1       0.97      0.83      0.90       307\n",
      "\n",
      "    accuracy                           0.90       587\n",
      "   macro avg       0.91      0.90      0.90       587\n",
      "weighted avg       0.91      0.90      0.90       587\n",
      "\n",
      "\n",
      "Cross Value Scores :  [0.79591837 0.82352941 0.94373402 0.96930946 0.92071611]\n",
      "\n",
      "Accuracy :  0.8906414739808968\n"
     ]
    }
   ],
   "source": [
    "#CountVectorizer and Random Forest Classifier\n",
    "from sklearn.ensemble import RandomForestClassifier\n",
    "\n",
    "model=make_pipeline(CountVectorizer(),RandomForestClassifier())\n",
    "models.append(\"RFC\")\n",
    "\n",
    "estimators.append((\"RFC\",model))\n",
    "\n",
    "model.fit(X_train,Y_train)\n",
    "\n",
    "y_pred=model.predict(X_test)\n",
    "\n",
    "score=metrics.accuracy_score(Y_test,y_pred)\n",
    "count_acc.append(score)\n",
    "precision=metrics.precision_score(Y_test,y_pred,average='weighted')\n",
    "count_pre.append(precision)\n",
    "recall=metrics.recall_score(Y_test,y_pred,average='weighted')\n",
    "count_rec.append(recall)\n",
    "results_count.append(score)\n",
    "\n",
    "print(\"\\nConfusion Matrix of CountVectorizer and RandomForestClassifier :\\n\",confusion_matrix(Y_test,y_pred))\n",
    "print(\"\\nAccuracy of CountVectorizer and RandomForestClassifier : \",score)\n",
    "print(\"\\nClassification Report :\\n\", metrics.classification_report(Y_test,y_pred))\n",
    "\n",
    "scores=cross_val_score(model,x,y,cv=5)\n",
    "\n",
    "print(\"\\nCross Value Scores : \",scores)\n",
    "print(\"\\nAccuracy : \",scores.mean())"
   ]
  },
  {
   "cell_type": "code",
   "execution_count": 23,
   "metadata": {},
   "outputs": [
    {
     "name": "stdout",
     "output_type": "stream",
     "text": [
      "\n",
      "Confusion Matrix of TfidfVectorizer and RandomForestClassifier :\n",
      " [[270  10]\n",
      " [ 54 253]]\n",
      "\n",
      "Accuracy of TfidfVectorizer and RandomForestClassifier :  0.8909710391822828\n",
      "\n",
      "Classification Report :\n",
      "               precision    recall  f1-score   support\n",
      "\n",
      "           0       0.83      0.96      0.89       280\n",
      "           1       0.96      0.82      0.89       307\n",
      "\n",
      "    accuracy                           0.89       587\n",
      "   macro avg       0.90      0.89      0.89       587\n",
      "weighted avg       0.90      0.89      0.89       587\n",
      "\n",
      "\n",
      "Cross Value Scores :  [0.79336735 0.82097187 0.94117647 0.96930946 0.91304348]\n",
      "\n",
      "Accuracy :  0.8875737251422308\n"
     ]
    }
   ],
   "source": [
    "#TfidfVectorizer and Random Forest Classifier\n",
    "\n",
    "model=make_pipeline(TfidfVectorizer(),RandomForestClassifier())\n",
    "\n",
    "model.fit(X_train,Y_train)\n",
    "\n",
    "y_pred=model.predict(X_test)\n",
    "\n",
    "score=metrics.accuracy_score(Y_test,y_pred)\n",
    "tfidf_acc.append(score)\n",
    "precision=metrics.precision_score(Y_test,y_pred,average='weighted')\n",
    "tfidf_pre.append(precision)\n",
    "recall=metrics.recall_score(Y_test,y_pred,average='weighted')\n",
    "tfidf_rec.append(recall)\n",
    "results_tfidf.append(score)\n",
    "\n",
    "print(\"\\nConfusion Matrix of TfidfVectorizer and RandomForestClassifier :\\n\",confusion_matrix(Y_test,y_pred))\n",
    "print(\"\\nAccuracy of TfidfVectorizer and RandomForestClassifier : \",score)\n",
    "print(\"\\nClassification Report :\\n\", metrics.classification_report(Y_test,y_pred))\n",
    "\n",
    "scores=cross_val_score(model,x,y,cv=5)\n",
    "\n",
    "print(\"\\nCross Value Scores : \",scores)\n",
    "print(\"\\nAccuracy : \",scores.mean())"
   ]
  },
  {
   "cell_type": "code",
   "execution_count": 24,
   "metadata": {},
   "outputs": [
    {
     "name": "stdout",
     "output_type": "stream",
     "text": [
      "\n",
      "Confusion Matrix of CountVectorizer and KNeighborsClassifier :\n",
      " [[275   5]\n",
      " [114 193]]\n",
      "\n",
      "Accuracy of CountVectorizer and KNeighborsClassifier :  0.797274275979557\n",
      "\n",
      "Classificatio Report :\n",
      "               precision    recall  f1-score   support\n",
      "\n",
      "           0       0.71      0.98      0.82       280\n",
      "           1       0.97      0.63      0.76       307\n",
      "\n",
      "    accuracy                           0.80       587\n",
      "   macro avg       0.84      0.81      0.79       587\n",
      "weighted avg       0.85      0.80      0.79       587\n",
      "\n",
      "\n",
      "Cross Value Scores :  [0.67346939 0.69309463 0.87212276 0.86189258 0.79539642]\n",
      "\n",
      "Accuracy :  0.779195156323399\n"
     ]
    }
   ],
   "source": [
    "#CountVectorizer and KNeighbors Classifier\n",
    "\n",
    "from sklearn.neighbors import KNeighborsClassifier\n",
    "\n",
    "model=make_pipeline(CountVectorizer(),KNeighborsClassifier(n_neighbors=5))\n",
    "models.append(\"KNN\")\n",
    "estimators.append((\"KNN\",model))\n",
    "\n",
    "model.fit(X_train,Y_train)\n",
    "\n",
    "y_pred=model.predict(X_test)\n",
    "\n",
    "score=metrics.accuracy_score(Y_test,y_pred)\n",
    "count_acc.append(score)\n",
    "precision=metrics.precision_score(Y_test,y_pred,average='weighted')\n",
    "count_pre.append(precision)\n",
    "recall=metrics.recall_score(Y_test,y_pred,average='weighted')\n",
    "count_rec.append(recall)\n",
    "results_count.append(score)\n",
    "\n",
    "print(\"\\nConfusion Matrix of CountVectorizer and KNeighborsClassifier :\\n\",confusion_matrix(Y_test,y_pred))\n",
    "print(\"\\nAccuracy of CountVectorizer and KNeighborsClassifier : \",score)\n",
    "print(\"\\nClassificatio Report :\\n\", metrics.classification_report(Y_test,y_pred))\n",
    "\n",
    "scores=cross_val_score(model,x,y,cv=5)\n",
    "\n",
    "print(\"\\nCross Value Scores : \",scores)\n",
    "print(\"\\nAccuracy : \",scores.mean())"
   ]
  },
  {
   "cell_type": "code",
   "execution_count": 25,
   "metadata": {},
   "outputs": [
    {
     "name": "stdout",
     "output_type": "stream",
     "text": [
      "\n",
      "Confusion Matrix of TfidfVectorizer and KNeighborsClassifier :\n",
      " [[279   1]\n",
      " [212  95]]\n",
      "\n",
      "Accuracy of TfidfVectorizer and KNeighborsClassifier :  0.637137989778535\n",
      "\n",
      "Classificatio Report :\n",
      "               precision    recall  f1-score   support\n",
      "\n",
      "           0       0.57      1.00      0.72       280\n",
      "           1       0.99      0.31      0.47       307\n",
      "\n",
      "    accuracy                           0.64       587\n",
      "   macro avg       0.78      0.65      0.60       587\n",
      "weighted avg       0.79      0.64      0.59       587\n",
      "\n",
      "\n",
      "Cross Value Scores :  [0.55867347 0.59335038 0.77493606 0.60358056 0.56521739]\n",
      "\n",
      "Accuracy :  0.6191515736729475\n"
     ]
    }
   ],
   "source": [
    "#TfidfVectorizer and KNeighbors Classifier\n",
    "\n",
    "model=make_pipeline(TfidfVectorizer(),KNeighborsClassifier())\n",
    "\n",
    "model.fit(X_train,Y_train)\n",
    "\n",
    "y_pred=model.predict(X_test)\n",
    "\n",
    "score=metrics.accuracy_score(Y_test,y_pred)\n",
    "tfidf_acc.append(score)\n",
    "precision=metrics.precision_score(Y_test,y_pred,average='weighted')\n",
    "tfidf_pre.append(precision)\n",
    "recall=metrics.recall_score(Y_test,y_pred,average='weighted')\n",
    "tfidf_rec.append(recall)\n",
    "results_tfidf.append(score)\n",
    "\n",
    "print(\"\\nConfusion Matrix of TfidfVectorizer and KNeighborsClassifier :\\n\",confusion_matrix(Y_test,y_pred))\n",
    "print(\"\\nAccuracy of TfidfVectorizer and KNeighborsClassifier : \",score)\n",
    "print(\"\\nClassificatio Report :\\n\", metrics.classification_report(Y_test,y_pred))\n",
    "\n",
    "scores=cross_val_score(model,x,y,cv=5)\n",
    "\n",
    "print(\"\\nCross Value Scores : \",scores)\n",
    "print(\"\\nAccuracy : \",scores.mean())"
   ]
  },
  {
   "cell_type": "code",
   "execution_count": 26,
   "metadata": {},
   "outputs": [
    {
     "data": {
      "image/png": "[encoded data removed]",
      "text/plain": [
       "<Figure size 432x288 with 1 Axes>"
      ]
     },
     "metadata": {
      "needs_background": "light"
     },
     "output_type": "display_data"
    }
   ],
   "source": [
    "#Comparison Graph of Accuracy vs Classification Models along with CountVectorizer and TfidfVectorizer\n",
    "\n",
    "fig, ax = plt.subplots()\n",
    "y_pos=np.arange(len(models))                            #Calculate number of models\n",
    "\n",
    "bar_width=0.15                                          #Width of bars\n",
    "opacity=0.8\n",
    "\n",
    "rects1=plt.bar(y_pos,results_count,bar_width,alpha=opacity,color='b',label='CountVect')      #Bar graph for CountVectorizer\n",
    "\n",
    "rects2=plt.bar(y_pos+bar_width,results_tfidf,bar_width,alpha=opacity,color='g',label='TfidfVect')    #Bar graph of TfidfVectorizer\n",
    "\n",
    "plt.xlabel('Classification Models')                     #Label X axis\n",
    "plt.ylabel('Accuracy')                                  #Label Y axis\n",
    "  \n",
    "plt.title('Algorithm Comparison')\n",
    "plt.xticks(0.09+y_pos,models)\n",
    "plt.legend()\n",
    "\n",
    "plt.tight_layout()\n",
    "plt.show()"
   ]
  },
  {
   "cell_type": "code",
   "execution_count": 27,
   "metadata": {},
   "outputs": [
    {
     "data": {
      "image/png": "[encoded data removed]",
      "text/plain": [
       "<Figure size 432x288 with 1 Axes>"
      ]
     },
     "metadata": {
      "needs_background": "light"
     },
     "output_type": "display_data"
    }
   ],
   "source": [
    "#LineGraph fot the same\n",
    "\n",
    "plt.plot(models, results_count, color=\"blue\",label='CountVect')                   #Line graph for CountVectorizer\n",
    "plt.plot(models, results_tfidf, color='green',label='TfidfVect')                  #Line graph for TfidfVectorizer\n",
    "\n",
    "plt.xlabel('Classification Models')\n",
    "plt.ylabel('Accuracy')\n",
    "plt.title('Algorithm Comparison using Line Graph')\n",
    "plt.legend()\n",
    "plt.show()"
   ]
  },
  {
   "cell_type": "code",
   "execution_count": 28,
   "metadata": {},
   "outputs": [
    {
     "data": {
      "image/png": "[encoded data removed]",
      "text/plain": [
       "<Figure size 432x288 with 1 Axes>"
      ]
     },
     "metadata": {
      "needs_background": "light"
     },
     "output_type": "display_data"
    }
   ],
   "source": [
    "#Accuracy, Precision and Recall for CountVectorizer and Models\n",
    "\n",
    "plt.plot(models,count_acc,label='Accurcacy')                        #LineGraph for Accuracy vs Models\n",
    "plt.plot(models,count_pre,label='Precision')                        #LineGraph for Precision vs Models\n",
    "plt.plot(models,count_rec,label='Recall')                           ##LineGraph for Recall vs Models\n",
    "plt.xlabel('Classification Models')\n",
    "plt.ylabel('Metrics')\n",
    "plt.legend()\n",
    "plt.show()"
   ]
  },
  {
   "cell_type": "code",
   "execution_count": 29,
   "metadata": {},
   "outputs": [
    {
     "data": {
      "image/png": "[encoded data removed]",
      "text/plain": [
       "<Figure size 432x288 with 1 Axes>"
      ]
     },
     "metadata": {
      "needs_background": "light"
     },
     "output_type": "display_data"
    }
   ],
   "source": [
    "#Accuracy, Precision and Recall for TfidfVectorizer and Models\n",
    "\n",
    "plt.plot(models,tfidf_acc,label='Accurcacy')\n",
    "plt.plot(models,tfidf_pre,label='Precision')\n",
    "plt.plot(models,tfidf_rec,label='Recall')\n",
    "plt.xlabel('Classification Models')\n",
    "plt.ylabel('Metrics')\n",
    "plt.legend()\n",
    "plt.show()"
   ]
  },
  {
   "cell_type": "code",
   "execution_count": 30,
   "metadata": {},
   "outputs": [
    {
     "name": "stdout",
     "output_type": "stream",
     "text": [
      "Cluster Centres : \n",
      " [[0.00058985 0.00048137 0.         ... 0.00052306 0.00052306 0.00052306]\n",
      " [0.         0.         0.         ... 0.         0.         0.        ]\n",
      " [0.         0.         0.         ... 0.         0.         0.        ]\n",
      " [0.         0.         0.00570661 ... 0.         0.         0.        ]\n",
      " [0.         0.         0.         ... 0.         0.         0.        ]]\n",
      "\n",
      "Cluster Labels :  [1 0 2 ... 2 0 0]\n"
     ]
    }
   ],
   "source": [
    "#KMeans Clustering\n",
    "\n",
    "from sklearn.cluster import KMeans\n",
    "\n",
    "#n_clusters is % because it has 5 varied datasets\n",
    "kmeans=KMeans(n_clusters=5, init='k-means++', max_iter=100, n_init=1)\n",
    "\n",
    "model=make_pipeline(TfidfVectorizer(),kmeans)\n",
    "\n",
    "model.fit(X_train,Y_train)\n",
    "\n",
    "#Display cluster centers\n",
    "print(\"Cluster Centres : \\n\" ,kmeans.cluster_centers_)\n",
    "\n",
    "#Display cluster labels\n",
    "print(\"\\nCluster Labels : \",kmeans.labels_)"
   ]
  },
  {
   "cell_type": "code",
   "execution_count": 31,
   "metadata": {},
   "outputs": [
    {
     "data": {
      "text/plain": [
       "array([2, 4, 2, 2, 0, 0, 4, 4, 0, 0, 0, 2, 0, 0, 0, 0, 3, 0, 0, 1, 0, 1,\n",
       "       4, 0, 0, 4, 0, 0, 4, 0, 2, 2, 0, 0, 0, 3, 0, 1, 4, 0, 0, 0, 2, 0,\n",
       "       0, 2, 2, 0, 0, 0, 4, 0, 3, 1, 3, 0, 0, 4, 0, 2, 0, 4, 0, 0, 4, 0,\n",
       "       1, 2, 0, 0, 0, 2, 2, 4, 0, 0, 0, 0, 3, 1, 4, 2, 0, 2, 0, 4, 2, 0,\n",
       "       2, 2, 0, 4, 2, 0, 4, 0, 1, 0, 1, 0, 2, 0, 3, 0, 0, 0, 0, 1, 4, 0,\n",
       "       0, 0, 0, 0, 0, 0, 3, 2, 2, 4, 0, 2, 2, 2, 0, 2, 4, 0, 0, 2, 0, 1,\n",
       "       2, 2, 4, 2, 2, 2, 2, 4, 0, 0, 0, 4, 0, 0, 4, 2, 4, 3, 0, 2, 0, 2,\n",
       "       0, 3, 0, 4, 4, 2, 0, 0, 0, 1, 0, 1, 0, 0, 1, 0, 0, 2, 0, 0, 0, 0,\n",
       "       0, 0, 1, 4, 2, 0, 4, 0, 0, 4, 0, 0, 0, 0, 0, 0, 1, 2, 0, 2, 0, 0,\n",
       "       2, 4, 1, 0, 0, 0, 2, 1, 2, 2, 2, 2, 4, 0, 0, 0, 0, 0, 0, 0, 0, 2,\n",
       "       0, 0, 2, 0, 3, 0, 0, 0, 2, 2, 0, 2, 0, 2, 2, 0, 3, 0, 0, 0, 0, 0,\n",
       "       0, 2, 0, 0, 0, 4, 2, 4, 2, 0, 0, 4, 0, 1, 4, 1, 3, 0, 4, 1, 0, 0,\n",
       "       3, 0, 2, 0, 2, 0, 0, 0, 2, 2, 0, 1, 2, 2, 1, 4, 0, 0, 1, 0, 0, 4,\n",
       "       0, 0, 2, 0, 1, 1, 0, 0, 4, 0, 2, 2, 4, 0, 4, 0, 0, 2, 2, 0, 2, 0,\n",
       "       2, 4, 0, 4, 0, 0, 0, 0, 0, 0, 2, 4, 0, 0, 0, 0, 0, 0, 0, 0, 0, 4,\n",
       "       0, 0, 0, 4, 0, 0, 0, 0, 1, 4, 0, 0, 0, 0, 4, 2, 2, 2, 0, 0, 0, 0,\n",
       "       2, 4, 3, 0, 0, 4, 4, 0, 2, 0, 2, 0, 0, 4, 2, 0, 0, 2, 0, 4, 2, 2,\n",
       "       4, 0, 0, 0, 0, 0, 0, 0, 0, 2, 0, 4, 0, 0, 3, 2, 0, 0, 0, 2, 2, 2,\n",
       "       0, 0, 4, 0, 4, 0, 0, 0, 1, 0, 0, 2, 2, 2, 0, 0, 2, 2, 0, 0, 0, 0,\n",
       "       0, 0, 3, 4, 0, 2, 0, 0, 0, 2, 1, 0, 0, 4, 4, 4, 2, 0, 0, 0, 0, 0,\n",
       "       0, 3, 0, 0, 2, 2, 0, 4, 0, 0, 0, 1, 4, 0, 2, 2, 0, 0, 2, 2, 2, 0,\n",
       "       1, 2, 0, 0, 0, 0, 0, 0, 0, 0, 0, 0, 0, 4, 4, 2, 0, 0, 0, 4, 2, 2,\n",
       "       0, 4, 0, 0, 0, 0, 4, 0, 4, 2, 0, 0, 4, 2, 0, 0, 0, 0, 0, 0, 0, 0,\n",
       "       0, 0, 0, 0, 0, 4, 2, 0, 0, 0, 4, 0, 0, 0, 0, 0, 0, 4, 0, 0, 2, 0,\n",
       "       2, 0, 2, 0, 0, 4, 4, 0, 1, 0, 4, 4, 3, 0, 1, 1, 0, 0, 0, 0, 0, 0,\n",
       "       4, 1, 0, 0, 0, 3, 0, 1, 0, 2, 4, 0, 2, 0, 0, 0, 4, 0, 1, 1, 4, 2,\n",
       "       0, 0, 2, 0, 0, 4, 4, 4, 2, 2, 1, 2, 2, 0, 0])"
      ]
     },
     "execution_count": 31,
     "metadata": {},
     "output_type": "execute_result"
    }
   ],
   "source": [
    "y_pred=model.predict(X_test)\n",
    "\n",
    "#Clusters for X-test data\n",
    "y_pred"
   ]
  },
  {
   "cell_type": "code",
   "execution_count": 32,
   "metadata": {},
   "outputs": [
    {
     "data": {
      "text/plain": [
       "<matplotlib.collections.PathCollection at 0x198aa8de780>"
      ]
     },
     "execution_count": 32,
     "metadata": {},
     "output_type": "execute_result"
    },
    {
     "data": {
      "image/png": "[encoded data removed]",
      "text/plain": [
       "<Figure size 432x288 with 1 Axes>"
      ]
     },
     "metadata": {
      "needs_background": "light"
     },
     "output_type": "display_data"
    }
   ],
   "source": [
    "#Reference Link: https://sanjayasubedi.com.np/nlp/nlp-with-python-document-clustering/\n",
    "from sklearn.decomposition import PCA\n",
    "\n",
    "vec = TfidfVectorizer()\n",
    "vec.fit(X_train)\n",
    "features = vec.transform(X_train)\n",
    "\n",
    "# reduce the features to 2D to plot the clusters on graph\n",
    "pca = PCA(n_components=2, random_state=0)\n",
    "reduced_features = pca.fit_transform(features.toarray())\n",
    "\n",
    "# reduce the cluster centers to 2D\n",
    "reduced_cluster_centers = pca.transform(kmeans.cluster_centers_)\n",
    "\n",
    "plt.scatter(reduced_features[:,0], reduced_features[:,1], c=kmeans.predict(features))\n",
    "plt.scatter(reduced_cluster_centers[:, 0], reduced_cluster_centers[:,1], marker='x', s=200, c='black')"
   ]
  },
  {
   "cell_type": "code",
   "execution_count": 33,
   "metadata": {},
   "outputs": [
    {
     "name": "stdout",
     "output_type": "stream",
     "text": [
      "\n",
      "Confusion Matrix :\n",
      " [[275   5]\n",
      " [ 53 254]]\n",
      "\n",
      "Accuracy :  0.9011925042589438\n",
      "\n",
      "Classificatio Report :\n",
      "               precision    recall  f1-score   support\n",
      "\n",
      "           0       0.84      0.98      0.90       280\n",
      "           1       0.98      0.83      0.90       307\n",
      "\n",
      "    accuracy                           0.90       587\n",
      "   macro avg       0.91      0.90      0.90       587\n",
      "weighted avg       0.91      0.90      0.90       587\n",
      "\n",
      "Cross Value Scores :  [0.78571429 0.82352941 0.94117647 0.95907928 0.91815857]\n",
      "Accuracy :  0.8855316039459262\n"
     ]
    }
   ],
   "source": [
    "#Bagging\n",
    "from sklearn.ensemble import VotingClassifier\n",
    "\n",
    "#Creating local variable for Voting classifier\n",
    "ensemble=VotingClassifier(estimators)\n",
    "y_pred=ensemble.fit(X_train,Y_train)\n",
    "\n",
    "y_pred=ensemble.predict(X_test)\n",
    "\n",
    "score=metrics.accuracy_score(Y_test,y_pred)\n",
    "\n",
    "print(\"\\nConfusion Matrix :\\n\",confusion_matrix(Y_test,y_pred))\n",
    "print(\"\\nAccuracy : \",score)\n",
    "print(\"\\nClassificatio Report :\\n\", metrics.classification_report(Y_test,y_pred))\n",
    "\n",
    "scores=cross_val_score(ensemble,x,y,cv=5)\n",
    "print(\"Cross Value Scores : \",scores)\n",
    "print(\"Accuracy : \",scores.mean())"
   ]
  },
  {
   "cell_type": "code",
   "execution_count": 34,
   "metadata": {},
   "outputs": [
    {
     "name": "stdout",
     "output_type": "stream",
     "text": [
      "Accuracy :  0.9011925042589438\n",
      "              precision    recall  f1-score   support\n",
      "\n",
      "           0       0.83      0.97      0.89       280\n",
      "           1       0.97      0.82      0.89       307\n",
      "\n",
      "    accuracy                           0.89       587\n",
      "   macro avg       0.90      0.89      0.89       587\n",
      "weighted avg       0.90      0.89      0.89       587\n",
      "\n",
      "Cross Value Scores :  [0.74489796 0.81329923 0.94629156 0.96930946 0.88235294]\n",
      "Accuracy :  0.8712302312229239\n"
     ]
    }
   ],
   "source": [
    "#Boosting\n",
    "from sklearn.ensemble import GradientBoostingClassifier\n",
    "from sklearn.pipeline import Pipeline\n",
    "\n",
    "#GradientBoostingClassifier is used because the objective of Gradient Boosting classifiers is to minimize the loss, \n",
    "#or the difference between the actual class value of the training example and the predicted class value.\n",
    "\n",
    "text_clf = Pipeline([('tfidf', TfidfVectorizer()),\n",
    "                     ('clf', GradientBoostingClassifier(n_estimators=100))])\n",
    "\n",
    "text_clf.fit(X_train, Y_train)\n",
    "predicted = text_clf.predict(X_test)\n",
    "print(\"Accuracy : \",score)\n",
    "print(metrics.classification_report(Y_test, predicted))\n",
    "score=metrics.accuracy_score(Y_test,y_pred)\n",
    "\n",
    "\n",
    "scores=cross_val_score(text_clf,x,y,cv=5)\n",
    "print(\"Cross Value Scores : \",scores)\n",
    "print(\"Accuracy : \",scores.mean())"
   ]
  },
  {
   "cell_type": "code",
   "execution_count": null,
   "metadata": {},
   "outputs": [],
   "source": []
  }
 ],
 "metadata": {
  "kernelspec": {
   "display_name": "Python 3",
   "language": "python",
   "name": "python3"
  },
  "language_info": {
   "codemirror_mode": {
    "name": "ipython",
    "version": 3
   },
   "file_extension": ".py",
   "mimetype": "text/x-python",
   "name": "python",
   "nbconvert_exporter": "python",
   "pygments_lexer": "ipython3",
   "version": "3.7.3"
  }
 },
 "nbformat": 4,
 "nbformat_minor": 2
}
